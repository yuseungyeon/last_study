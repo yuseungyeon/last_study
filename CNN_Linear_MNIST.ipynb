{
 "cells": [
  {
   "cell_type": "code",
   "execution_count": 2,
   "metadata": {},
   "outputs": [
    {
     "name": "stderr",
     "output_type": "stream",
     "text": [
      "Setting up a new session...\n"
     ]
    }
   ],
   "source": [
    "import numpy as np\n",
    "import torch\n",
    "import torch.nn as nn\n",
    "import torch.optim as optim\n",
    "import torch.nn.init as init\n",
    "import torchvision.datasets as dset\n",
    "import torchvision.transforms as transforms\n",
    "from torch.utils.data import DataLoader\n",
    "from torch.autograd import Variable\n",
    "from visdom import Visdom\n",
    "viz = Visdom()"
   ]
  },
  {
   "cell_type": "code",
   "execution_count": 3,
   "metadata": {},
   "outputs": [],
   "source": [
    "batch_size = 16\n",
    "learning_rate = 0.0002\n",
    "num_epoch = 10"
   ]
  },
  {
   "cell_type": "code",
   "execution_count": 4,
   "metadata": {},
   "outputs": [],
   "source": [
    "mnist_train = dset.MNIST(\"./\", train=True, transform=transforms.ToTensor(), target_transform=None, download=True)\n",
    "mnist_test = dset.MNIST(\"./\", train=False, transform=transforms.ToTensor(), target_transform=None, download=True)"
   ]
  },
  {
   "cell_type": "code",
   "execution_count": 5,
   "metadata": {},
   "outputs": [
    {
     "name": "stdout",
     "output_type": "stream",
     "text": [
      "torch.Size([1, 28, 28]) 60000\n"
     ]
    },
    {
     "data": {
      "text/plain": [
       "(torch.Size([1, 28, 28]), 10000)"
      ]
     },
     "execution_count": 5,
     "metadata": {},
     "output_type": "execute_result"
    }
   ],
   "source": [
    "print(mnist_train.__getitem__(0)[0].size(), mnist_train.__len__())\n",
    "mnist_test.__getitem__(0)[0].size(), mnist_test.__len__()"
   ]
  },
  {
   "cell_type": "code",
   "execution_count": 12,
   "metadata": {},
   "outputs": [],
   "source": [
    "train_loader = torch.utils.data.DataLoader(mnist_train,batch_size=batch_size, shuffle=True,num_workers=2,drop_last=True)\n",
    "test_loader = torch.utils.data.DataLoader(mnist_test,batch_size=batch_size, shuffle=False,num_workers=2,drop_last=True)"
   ]
  },
  {
   "cell_type": "code",
   "execution_count": 9,
   "metadata": {},
   "outputs": [],
   "source": [
    "class CNN(nn.Module):\n",
    "    def __init__(self):\n",
    "        super(CNN,self).__init__()\n",
    "        self.layer = nn.Sequential(\n",
    "        nn.Conv2d(1,16,5), nn.ReLU(),\n",
    "        nn.Conv2d(16,32,5), nn.ReLU(), nn.MaxPool2d(2,2),\n",
    "        nn.Conv2d(32,64,5), nn.ReLU(), nn.MaxPool2d(2,2))\n",
    "        self.fc_layer = nn.Sequential(\n",
    "        nn.Linear(64*3*3, 100),\n",
    "        nn.ReLU(),\n",
    "        nn.Linear(100,10))\n",
    "    \n",
    "    def forward(self, x):\n",
    "        out = self.layer(x)\n",
    "        out = out.view(batch_size, -1)\n",
    "        out = self.fc_layer(out)\n",
    "        \n",
    "        return out\n",
    "    \n",
    "model = CNN().cuda()"
   ]
  },
  {
   "cell_type": "code",
   "execution_count": 10,
   "metadata": {},
   "outputs": [],
   "source": [
    "loss_func = nn.CrossEntropyLoss()\n",
    "optimizer = torch.optim.SGD(model.parameters(), lr=learning_rate)"
   ]
  },
  {
   "cell_type": "code",
   "execution_count": 13,
   "metadata": {},
   "outputs": [
    {
     "name": "stdout",
     "output_type": "stream",
     "text": [
      "tensor(2.2935, device='cuda:0', grad_fn=<NllLossBackward>)\n",
      "tensor(2.2969, device='cuda:0', grad_fn=<NllLossBackward>)\n",
      "tensor(2.2977, device='cuda:0', grad_fn=<NllLossBackward>)\n",
      "tensor(2.3002, device='cuda:0', grad_fn=<NllLossBackward>)\n",
      "tensor(2.2934, device='cuda:0', grad_fn=<NllLossBackward>)\n",
      "tensor(2.2826, device='cuda:0', grad_fn=<NllLossBackward>)\n",
      "tensor(2.2948, device='cuda:0', grad_fn=<NllLossBackward>)\n",
      "tensor(2.2858, device='cuda:0', grad_fn=<NllLossBackward>)\n",
      "tensor(2.2626, device='cuda:0', grad_fn=<NllLossBackward>)\n",
      "tensor(2.2453, device='cuda:0', grad_fn=<NllLossBackward>)\n",
      "tensor(2.2635, device='cuda:0', grad_fn=<NllLossBackward>)\n",
      "tensor(2.2307, device='cuda:0', grad_fn=<NllLossBackward>)\n",
      "tensor(2.2130, device='cuda:0', grad_fn=<NllLossBackward>)\n",
      "tensor(2.2245, device='cuda:0', grad_fn=<NllLossBackward>)\n",
      "tensor(2.1561, device='cuda:0', grad_fn=<NllLossBackward>)\n",
      "tensor(2.0503, device='cuda:0', grad_fn=<NllLossBackward>)\n",
      "tensor(2.1314, device='cuda:0', grad_fn=<NllLossBackward>)\n",
      "tensor(1.7216, device='cuda:0', grad_fn=<NllLossBackward>)\n",
      "tensor(1.5088, device='cuda:0', grad_fn=<NllLossBackward>)\n",
      "tensor(1.1621, device='cuda:0', grad_fn=<NllLossBackward>)\n",
      "tensor(0.8963, device='cuda:0', grad_fn=<NllLossBackward>)\n",
      "tensor(0.8762, device='cuda:0', grad_fn=<NllLossBackward>)\n",
      "tensor(0.4920, device='cuda:0', grad_fn=<NllLossBackward>)\n",
      "tensor(0.7964, device='cuda:0', grad_fn=<NllLossBackward>)\n",
      "tensor(0.6423, device='cuda:0', grad_fn=<NllLossBackward>)\n",
      "tensor(0.6124, device='cuda:0', grad_fn=<NllLossBackward>)\n",
      "tensor(0.4500, device='cuda:0', grad_fn=<NllLossBackward>)\n",
      "tensor(0.1547, device='cuda:0', grad_fn=<NllLossBackward>)\n",
      "tensor(0.2599, device='cuda:0', grad_fn=<NllLossBackward>)\n",
      "tensor(0.3556, device='cuda:0', grad_fn=<NllLossBackward>)\n",
      "tensor(0.2138, device='cuda:0', grad_fn=<NllLossBackward>)\n",
      "tensor(0.4218, device='cuda:0', grad_fn=<NllLossBackward>)\n",
      "tensor(0.4882, device='cuda:0', grad_fn=<NllLossBackward>)\n",
      "tensor(0.4274, device='cuda:0', grad_fn=<NllLossBackward>)\n",
      "tensor(0.2944, device='cuda:0', grad_fn=<NllLossBackward>)\n",
      "tensor(0.4730, device='cuda:0', grad_fn=<NllLossBackward>)\n",
      "tensor(0.3429, device='cuda:0', grad_fn=<NllLossBackward>)\n",
      "tensor(0.3135, device='cuda:0', grad_fn=<NllLossBackward>)\n",
      "tensor(0.4274, device='cuda:0', grad_fn=<NllLossBackward>)\n",
      "tensor(0.2427, device='cuda:0', grad_fn=<NllLossBackward>)\n"
     ]
    }
   ],
   "source": [
    "for i in range(num_epoch):\n",
    "    for j, [image, label] in enumerate(train_loader):\n",
    "        x = Variable(image).cuda()\n",
    "        y_ = Variable(label).cuda()\n",
    "        \n",
    "        optimizer.zero_grad()\n",
    "        output = model.forward(x)\n",
    "        loss = loss_func(output, y_)\n",
    "        loss.backward()\n",
    "        optimizer.step()\n",
    "        \n",
    "        if j % 1000 == 0:\n",
    "            print(loss)"
   ]
  },
  {
   "cell_type": "code",
   "execution_count": 15,
   "metadata": {},
   "outputs": [
    {
     "name": "stderr",
     "output_type": "stream",
     "text": [
      "C:\\ProgramData\\Anaconda3\\lib\\site-packages\\ipykernel_launcher.py:5: UserWarning: volatile was removed and now has no effect. Use `with torch.no_grad():` instead.\n",
      "  \"\"\"\n"
     ]
    },
    {
     "name": "stdout",
     "output_type": "stream",
     "text": [
      "Accuracy of Test Data : 91.06999969482422\n"
     ]
    }
   ],
   "source": [
    "correct = 0\n",
    "total = 0\n",
    "\n",
    "for image, label in test_loader:\n",
    "    x = Variable(image, volatile=True).cuda()\n",
    "    y_ = Variable(label).cuda()\n",
    "    \n",
    "    output = model.forward(x)\n",
    "    _, output_index = torch.max(output, 1)\n",
    "    \n",
    "    total += label.size(0)\n",
    "    correct += (output_index == y_).sum().float()\n",
    "    \n",
    "print(\"Accuracy of Test Data : {}\".format(100*correct/total))"
   ]
  },
  {
   "cell_type": "code",
   "execution_count": null,
   "metadata": {},
   "outputs": [],
   "source": []
  }
 ],
 "metadata": {
  "kernelspec": {
   "display_name": "Python 3",
   "language": "python",
   "name": "python3"
  },
  "language_info": {
   "codemirror_mode": {
    "name": "ipython",
    "version": 3
   },
   "file_extension": ".py",
   "mimetype": "text/x-python",
   "name": "python",
   "nbconvert_exporter": "python",
   "pygments_lexer": "ipython3",
   "version": "3.6.9"
  }
 },
 "nbformat": 4,
 "nbformat_minor": 2
}
