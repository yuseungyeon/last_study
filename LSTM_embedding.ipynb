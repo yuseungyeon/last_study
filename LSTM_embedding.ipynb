{
 "cells": [
  {
   "cell_type": "code",
   "execution_count": 1,
   "metadata": {},
   "outputs": [],
   "source": [
    "import torch\n",
    "import torch.nn as nn\n",
    "from torch.autograd import Variable"
   ]
  },
  {
   "cell_type": "code",
   "execution_count": 2,
   "metadata": {},
   "outputs": [],
   "source": [
    "a = Variable(torch.LongTensor([0,0,0,1]))\n",
    "b = Variable(torch.LongTensor([3]))\n",
    "\n",
    "a_ = Variable(torch.LongTensor([[0,0,0,1], [1,0,0,0], [0,1,0,0], [0,0,1,0]]))\n",
    "b_ = Variable(torch.LongTensor([3,0,1,2]))"
   ]
  },
  {
   "cell_type": "code",
   "execution_count": 4,
   "metadata": {},
   "outputs": [
    {
     "data": {
      "text/plain": [
       "(torch.Size([4, 5]),\n",
       " torch.Size([1, 5]),\n",
       " torch.Size([4, 4, 5]),\n",
       " torch.Size([4, 5]))"
      ]
     },
     "execution_count": 4,
     "metadata": {},
     "output_type": "execute_result"
    }
   ],
   "source": [
    "embedder = nn.Embedding(num_embeddings=4,embedding_dim=5)\n",
    "\n",
    "embedder(a).size(), embedder(b).size(), embedder(a_).size(), embedder(b_).size()"
   ]
  },
  {
   "cell_type": "code",
   "execution_count": null,
   "metadata": {},
   "outputs": [],
   "source": []
  }
 ],
 "metadata": {
  "kernelspec": {
   "display_name": "Python 3",
   "language": "python",
   "name": "python3"
  },
  "language_info": {
   "codemirror_mode": {
    "name": "ipython",
    "version": 3
   },
   "file_extension": ".py",
   "mimetype": "text/x-python",
   "name": "python",
   "nbconvert_exporter": "python",
   "pygments_lexer": "ipython3",
   "version": "3.6.9"
  }
 },
 "nbformat": 4,
 "nbformat_minor": 2
}
