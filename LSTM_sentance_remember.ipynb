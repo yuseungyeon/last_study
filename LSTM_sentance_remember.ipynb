{
 "cells": [
  {
   "cell_type": "code",
   "execution_count": 1,
   "metadata": {},
   "outputs": [],
   "source": [
    "import torch \n",
    "import torch.nn as nn\n",
    "import torch.optim as optim\n",
    "from torch.autograd import Variable\n",
    "import numpy as np"
   ]
  },
  {
   "cell_type": "code",
   "execution_count": 2,
   "metadata": {},
   "outputs": [
    {
     "data": {
      "text/plain": [
       "35"
      ]
     },
     "execution_count": 2,
     "metadata": {},
     "output_type": "execute_result"
    }
   ],
   "source": [
    "string = \"hello pytorch. how long can a rnn cell remember? show me your limit!\"\n",
    "chars = \"abcdefghijklmnopqrstuvwxyz ?!.,:;01\"\n",
    "char_list = [i for i in chars]\n",
    "char_len = len(char_list)\n",
    "\n",
    "char_len"
   ]
  },
  {
   "cell_type": "code",
   "execution_count": 3,
   "metadata": {},
   "outputs": [],
   "source": [
    "batch_size = 1\n",
    "seq_len = 1\n",
    "num_layers = 1\n",
    "input_size = char_len\n",
    "hidden_size = 35 \n",
    "lr = 0.01\n",
    "num_epochs = 1000"
   ]
  },
  {
   "cell_type": "code",
   "execution_count": 4,
   "metadata": {},
   "outputs": [],
   "source": [
    "def string_to_onehot(string):\n",
    "    start = np.zeros(shape=len(char_list), dtype=int)\n",
    "    end = np.zeros(shape=len(char_list), dtype=int)\n",
    "    start[-2] = 1\n",
    "    end[-1] = 1\n",
    "    for i in string:\n",
    "        idx= char_list.index(i)\n",
    "        zero = np.zeros(shape=char_len, dtype=int)\n",
    "        zero[idx] = 1\n",
    "        start = np.vstack([start, zero])\n",
    "    output = np.vstack([start, end])\n",
    "    return output"
   ]
  },
  {
   "cell_type": "code",
   "execution_count": 5,
   "metadata": {},
   "outputs": [],
   "source": [
    "def onehot_to_word(onehot_1):\n",
    "    onehot = torch.Tensor.numpy(onehot_1)\n",
    "    return char_list[onehot.argmax()]"
   ]
  },
  {
   "cell_type": "code",
   "execution_count": 10,
   "metadata": {},
   "outputs": [],
   "source": [
    "class RNN(nn.Module):\n",
    "    def __init__(self, input_size, hidden_size, num_layers):\n",
    "        super(RNN, self).__init__()\n",
    "        \n",
    "        self.input_size = input_size\n",
    "        self.hidden_size = hidden_size\n",
    "        self.num_layers = num_layers\n",
    "        self.lstm = nn.LSTM(input_size, hidden_size, num_layers)\n",
    "        \n",
    "    def forward(self, input, hidden, cell):\n",
    "        output,(hidden, cell) = self.lstm(input, (hidden,cell))\n",
    "        \n",
    "        return output, hidden, cell\n",
    "    \n",
    "    def init_hidden_cell(self):\n",
    "        hidden = Variable(torch.zeros(num_layers, seq_len*batch_size, hidden_size))\n",
    "        cell = Variable(torch.zeros(num_layers, seq_len*batch_size, hidden_size))\n",
    "        return hidden, cell\n",
    "    \n",
    "rnn = RNN(input_size, hidden_size, num_layers)"
   ]
  },
  {
   "cell_type": "code",
   "execution_count": 11,
   "metadata": {},
   "outputs": [
    {
     "name": "stdout",
     "output_type": "stream",
     "text": [
      "torch.Size([70, 35])\n"
     ]
    }
   ],
   "source": [
    "one_hot = torch.from_numpy(string_to_onehot(string)).type_as(torch.FloatTensor())\n",
    "print(one_hot.size())\n",
    "\n",
    "loss_func = nn.MSELoss()\n",
    "optimizer = torch.optim.Adam(rnn.parameters(), lr=lr)"
   ]
  },
  {
   "cell_type": "code",
   "execution_count": 12,
   "metadata": {},
   "outputs": [
    {
     "name": "stdout",
     "output_type": "stream",
     "text": [
      "torch.Size([1, 1, 35])\n",
      "torch.Size([1, 1, 35]) torch.Size([1, 1, 35])\n",
      "torch.Size([1, 1, 35]) torch.Size([1, 1, 35]) torch.Size([1, 1, 35])\n"
     ]
    }
   ],
   "source": [
    "j = 0\n",
    "input_data = Variable(one_hot[j:j+seq_len].view(batch_size, seq_len,-1))\n",
    "print(input_data.size())\n",
    "\n",
    "hidden,cell = rnn.init_hidden_cell()\n",
    "print(hidden.size(), cell.size())\n",
    "\n",
    "output, hidden, cell = rnn(input_data, hidden, cell)\n",
    "print(output.size(), hidden.size(), cell.size())"
   ]
  },
  {
   "cell_type": "code",
   "execution_count": 14,
   "metadata": {},
   "outputs": [
    {
     "name": "stdout",
     "output_type": "stream",
     "text": [
      "tensor(2.5382, grad_fn=<AddBackward0>)\n",
      "tensor(1.7841, grad_fn=<AddBackward0>)\n",
      "tensor(1.5728, grad_fn=<AddBackward0>)\n",
      "tensor(1.3653, grad_fn=<AddBackward0>)\n",
      "tensor(1.1614, grad_fn=<AddBackward0>)\n",
      "tensor(0.9831, grad_fn=<AddBackward0>)\n",
      "tensor(0.8432, grad_fn=<AddBackward0>)\n",
      "tensor(0.7026, grad_fn=<AddBackward0>)\n",
      "tensor(0.6225, grad_fn=<AddBackward0>)\n",
      "tensor(0.5261, grad_fn=<AddBackward0>)\n",
      "tensor(0.4546, grad_fn=<AddBackward0>)\n",
      "tensor(0.4303, grad_fn=<AddBackward0>)\n",
      "tensor(0.3674, grad_fn=<AddBackward0>)\n",
      "tensor(0.3281, grad_fn=<AddBackward0>)\n",
      "tensor(0.2956, grad_fn=<AddBackward0>)\n",
      "tensor(0.2690, grad_fn=<AddBackward0>)\n",
      "tensor(0.2560, grad_fn=<AddBackward0>)\n",
      "tensor(0.2331, grad_fn=<AddBackward0>)\n",
      "tensor(0.2219, grad_fn=<AddBackward0>)\n",
      "tensor(0.2044, grad_fn=<AddBackward0>)\n",
      "tensor(0.1959, grad_fn=<AddBackward0>)\n",
      "tensor(0.1834, grad_fn=<AddBackward0>)\n",
      "tensor(0.1714, grad_fn=<AddBackward0>)\n",
      "tensor(0.1627, grad_fn=<AddBackward0>)\n",
      "tensor(0.1541, grad_fn=<AddBackward0>)\n",
      "tensor(0.1478, grad_fn=<AddBackward0>)\n",
      "tensor(0.1581, grad_fn=<AddBackward0>)\n",
      "tensor(0.1421, grad_fn=<AddBackward0>)\n",
      "tensor(0.1345, grad_fn=<AddBackward0>)\n",
      "tensor(0.1285, grad_fn=<AddBackward0>)\n",
      "tensor(0.1232, grad_fn=<AddBackward0>)\n",
      "tensor(0.1186, grad_fn=<AddBackward0>)\n",
      "tensor(0.1145, grad_fn=<AddBackward0>)\n",
      "tensor(0.1149, grad_fn=<AddBackward0>)\n",
      "tensor(0.1096, grad_fn=<AddBackward0>)\n",
      "tensor(0.1064, grad_fn=<AddBackward0>)\n",
      "tensor(0.1054, grad_fn=<AddBackward0>)\n",
      "tensor(0.1003, grad_fn=<AddBackward0>)\n",
      "tensor(0.0973, grad_fn=<AddBackward0>)\n",
      "tensor(0.1042, grad_fn=<AddBackward0>)\n",
      "tensor(0.0970, grad_fn=<AddBackward0>)\n",
      "tensor(0.0913, grad_fn=<AddBackward0>)\n",
      "tensor(0.0890, grad_fn=<AddBackward0>)\n",
      "tensor(0.0866, grad_fn=<AddBackward0>)\n",
      "tensor(0.0846, grad_fn=<AddBackward0>)\n",
      "tensor(0.0888, grad_fn=<AddBackward0>)\n",
      "tensor(0.1046, grad_fn=<AddBackward0>)\n",
      "tensor(0.0879, grad_fn=<AddBackward0>)\n",
      "tensor(0.0821, grad_fn=<AddBackward0>)\n",
      "tensor(0.0792, grad_fn=<AddBackward0>)\n",
      "tensor(0.0770, grad_fn=<AddBackward0>)\n",
      "tensor(0.0758, grad_fn=<AddBackward0>)\n",
      "tensor(0.0742, grad_fn=<AddBackward0>)\n",
      "tensor(0.0728, grad_fn=<AddBackward0>)\n",
      "tensor(0.0716, grad_fn=<AddBackward0>)\n",
      "tensor(0.0739, grad_fn=<AddBackward0>)\n",
      "tensor(0.0704, grad_fn=<AddBackward0>)\n",
      "tensor(0.0685, grad_fn=<AddBackward0>)\n",
      "tensor(0.0683, grad_fn=<AddBackward0>)\n",
      "tensor(0.0661, grad_fn=<AddBackward0>)\n",
      "tensor(0.0652, grad_fn=<AddBackward0>)\n",
      "tensor(0.0641, grad_fn=<AddBackward0>)\n",
      "tensor(0.0630, grad_fn=<AddBackward0>)\n",
      "tensor(0.0651, grad_fn=<AddBackward0>)\n",
      "tensor(0.0630, grad_fn=<AddBackward0>)\n",
      "tensor(0.0607, grad_fn=<AddBackward0>)\n",
      "tensor(0.0597, grad_fn=<AddBackward0>)\n",
      "tensor(0.0587, grad_fn=<AddBackward0>)\n",
      "tensor(0.0615, grad_fn=<AddBackward0>)\n",
      "tensor(0.0590, grad_fn=<AddBackward0>)\n",
      "tensor(0.0568, grad_fn=<AddBackward0>)\n",
      "tensor(0.0555, grad_fn=<AddBackward0>)\n",
      "tensor(0.0640, grad_fn=<AddBackward0>)\n",
      "tensor(0.0558, grad_fn=<AddBackward0>)\n",
      "tensor(0.0563, grad_fn=<AddBackward0>)\n",
      "tensor(0.0532, grad_fn=<AddBackward0>)\n",
      "tensor(0.0520, grad_fn=<AddBackward0>)\n",
      "tensor(0.0511, grad_fn=<AddBackward0>)\n",
      "tensor(0.0503, grad_fn=<AddBackward0>)\n",
      "tensor(0.0579, grad_fn=<AddBackward0>)\n",
      "tensor(0.0502, grad_fn=<AddBackward0>)\n",
      "tensor(0.0497, grad_fn=<AddBackward0>)\n",
      "tensor(0.0485, grad_fn=<AddBackward0>)\n",
      "tensor(0.0477, grad_fn=<AddBackward0>)\n",
      "tensor(0.0471, grad_fn=<AddBackward0>)\n",
      "tensor(0.0517, grad_fn=<AddBackward0>)\n",
      "tensor(0.0476, grad_fn=<AddBackward0>)\n",
      "tensor(0.0461, grad_fn=<AddBackward0>)\n",
      "tensor(0.0449, grad_fn=<AddBackward0>)\n",
      "tensor(0.0445, grad_fn=<AddBackward0>)\n",
      "tensor(0.0440, grad_fn=<AddBackward0>)\n",
      "tensor(0.0434, grad_fn=<AddBackward0>)\n",
      "tensor(0.0465, grad_fn=<AddBackward0>)\n",
      "tensor(0.0465, grad_fn=<AddBackward0>)\n",
      "tensor(0.0445, grad_fn=<AddBackward0>)\n",
      "tensor(0.0430, grad_fn=<AddBackward0>)\n",
      "tensor(0.0415, grad_fn=<AddBackward0>)\n",
      "tensor(0.0409, grad_fn=<AddBackward0>)\n",
      "tensor(0.0403, grad_fn=<AddBackward0>)\n",
      "tensor(0.0399, grad_fn=<AddBackward0>)\n"
     ]
    }
   ],
   "source": [
    "unroll_len = one_hot.size()[0]//seq_len -1\n",
    "\n",
    "for i in range(num_epochs):\n",
    "    hidden, cell = rnn.init_hidden_cell()\n",
    "    \n",
    "    loss = 0\n",
    "    for j in range(unroll_len):\n",
    "        input_data = Variable(one_hot[j:j+seq_len].view(batch_size, seq_len, -1))\n",
    "        label = Variable(one_hot[j+1:j+seq_len+1].view(batch_size,seq_len,-1))\n",
    "        optimizer.zero_grad()\n",
    "        \n",
    "        output, hidden, cell = rnn(input_data, hidden, cell)\n",
    "        loss += loss_func(output.view(1,-1), label.view(1,-1))\n",
    "        \n",
    "    loss.backward()\n",
    "    optimizer.step()\n",
    "    \n",
    "    if i%10 == 0:\n",
    "        print(loss)"
   ]
  },
  {
   "cell_type": "code",
   "execution_count": 15,
   "metadata": {},
   "outputs": [
    {
     "name": "stdout",
     "output_type": "stream",
     "text": [
      "hello pytorch. how long can a rnn cell remember? show me your limit!"
     ]
    }
   ],
   "source": [
    "hidden, cell = rnn.init_hidden_cell()\n",
    "\n",
    "for j in range(unroll_len-1):\n",
    "    input_data = Variable(one_hot[j:j+seq_len].view(batch_size, seq_len, -1))\n",
    "    label = Variable(one_hot[j+1:j+seq_len+1].view(batch_size, seq_len, -1))\n",
    "    output, hidden, cell = rnn(input_data, hidden, cell)\n",
    "    print(onehot_to_word(output.data), end=\"\")"
   ]
  },
  {
   "cell_type": "code",
   "execution_count": null,
   "metadata": {},
   "outputs": [],
   "source": []
  }
 ],
 "metadata": {
  "kernelspec": {
   "display_name": "Python 3",
   "language": "python",
   "name": "python3"
  },
  "language_info": {
   "codemirror_mode": {
    "name": "ipython",
    "version": 3
   },
   "file_extension": ".py",
   "mimetype": "text/x-python",
   "name": "python",
   "nbconvert_exporter": "python",
   "pygments_lexer": "ipython3",
   "version": "3.6.9"
  }
 },
 "nbformat": 4,
 "nbformat_minor": 2
}
